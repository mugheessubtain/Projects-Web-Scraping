{
 "cells": [
  {
   "cell_type": "code",
   "execution_count": 3,
   "id": "7db52c86",
   "metadata": {},
   "outputs": [
    {
     "name": "stdout",
     "output_type": "stream",
     "text": [
      "Requirement already satisfied: selenium in c:\\users\\hp\\appdata\\local\\programs\\python\\python313\\lib\\site-packages (3.141.0)\n",
      "Requirement already satisfied: urllib3 in c:\\users\\hp\\appdata\\local\\programs\\python\\python313\\lib\\site-packages (from selenium) (1.26.20)\n"
     ]
    },
    {
     "name": "stderr",
     "output_type": "stream",
     "text": [
      "\n",
      "[notice] A new release of pip is available: 24.3.1 -> 25.1.1\n",
      "[notice] To update, run: python.exe -m pip install --upgrade pip\n"
     ]
    }
   ],
   "source": [
    "!pip install  selenium"
   ]
  },
  {
   "cell_type": "code",
   "execution_count": 4,
   "id": "c05fe341",
   "metadata": {},
   "outputs": [],
   "source": [
    "from selenium import webdriver\n",
    "from selenium.webdriver.chrome.options import Options\n",
    "from selenium.webdriver.common.by import By\n",
    "path= r'C:\\Users\\hp\\Downloads\\chromedriver-win64\\chromedriver-win64\\chromedriver.exe'\n",
    "options = Options()\n",
    "options.add_argument(\"--headless\")  # Run in headless mode (no GUI)\n",
    "driver= webdriver.Chrome(path,options=options)\n",
    "# driver= webdriver.Chrome()\n",
    "\n",
    "driver.get(\"https://coinmarketcap.com/\")"
   ]
  },
  {
   "cell_type": "code",
   "execution_count": 17,
   "id": "6112ea92",
   "metadata": {},
   "outputs": [
    {
     "name": "stdout",
     "output_type": "stream",
     "text": [
      "#\n",
      "Name\n",
      "Price\n",
      "1h %\n",
      "24h %\n",
      "7d %\n",
      "Market Cap\n",
      "Volume(24h)\n",
      "Circulating Supply\n",
      "Last 7 Days\n",
      "1 Bitcoin\n",
      "BTC\n",
      "Buy $95,498.29 0.10% 0.90% 1.64% $1,896,599,014,496 $15,827,098,841\n",
      "165.67K BTC\n",
      "2 Ethereum\n",
      "ETH\n",
      "Buy $1,829.82 0.07% 0.26% 1.94% $220,919,211,993 $9,051,142,298\n",
      "4.94M ETH\n",
      "3 Tether\n",
      "USDT\n",
      "Buy $1.00 0.00% 0.02% 0.03% $149,358,844,451 $38,146,302,188\n",
      "38.14B USDT\n",
      "4 XRP\n",
      "XRP\n",
      "Buy $2.19 0.28% 0.67% 1.28% $128,445,603,343 $1,531,432,661\n",
      "697.68M XRP\n",
      "5 BNB\n",
      "BNB\n",
      "Buy $589.27 0.22% 1.62% 1.71% $83,023,097,407 $1,276,049,095\n",
      "2.16M BNB\n",
      "6 Solana\n",
      "SOL\n",
      "Buy $146.95 0.49% 1.18% 1.45% $76,131,020,182 $1,566,023,807\n",
      "10.65M SOL\n",
      "7 USDC\n",
      "USDC\n",
      "Buy $0.9998 0.00% 0.01% 0.02% $61,505,975,188 $5,416,240,066\n",
      "5.41B USDC\n",
      "8 Dogecoin\n",
      "DOGE\n",
      "Buy $0.1735 0.21% 3.13% 3.80% $25,880,790,502 $572,688,042\n",
      "3.29B DOGE\n",
      "9 Cardano\n",
      "ADA\n",
      "Buy $0.6908 0.20% 4.43% 0.45% $24,389,829,262 $802,083,517\n",
      "1.16B ADA\n",
      "10 TRON\n",
      "TRX\n",
      "Buy $0.2478 0.21% 0.29% 0.32% $23,524,875,597 $405,286,219\n",
      "1.63B TRX\n"
     ]
    }
   ],
   "source": [
    "table=driver.find_element(By.CLASS_NAME,\"cmc-table\")\n",
    "rows=table.find_elements(By.TAG_NAME,\"tr\")\n",
    "print(rows[0].text)\n",
    "for row in rows[1:11]:\n",
    "  table_Data=row.find_elements(By.TAG_NAME,\"td\")\n",
    "#   print(table_Data)\n",
    "  rank=table_Data[1].text\n",
    "  name=table_Data[2].text\n",
    "  price=table_Data[3].text\n",
    "  hour_change=table_Data[4].text\n",
    "  day_change=table_Data[5].text\n",
    "  seven_day=table_Data[6].text\n",
    "  market_cap=table_Data[7].text\n",
    "  volume=table_Data[8].text\n",
    "  print(rank,name,price,hour_change,day_change,seven_day,market_cap,volume)\n",
    "#   print(rank,name,price,hour_change,day_change,seven_day,market_cap,volume)"
   ]
  }
 ],
 "metadata": {
  "kernelspec": {
   "display_name": "Python 3",
   "language": "python",
   "name": "python3"
  },
  "language_info": {
   "codemirror_mode": {
    "name": "ipython",
    "version": 3
   },
   "file_extension": ".py",
   "mimetype": "text/x-python",
   "name": "python",
   "nbconvert_exporter": "python",
   "pygments_lexer": "ipython3",
   "version": "3.13.2"
  }
 },
 "nbformat": 4,
 "nbformat_minor": 5
}
