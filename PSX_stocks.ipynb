{
 "cells": [
  {
   "cell_type": "code",
   "execution_count": 1,
   "id": "ca31fa77",
   "metadata": {},
   "outputs": [
    {
     "name": "stdout",
     "output_type": "stream",
     "text": [
      "Requirement already satisfied: selenium in c:\\users\\hp\\appdata\\local\\programs\\python\\python313\\lib\\site-packages (3.141.0)\n",
      "Requirement already satisfied: urllib3 in c:\\users\\hp\\appdata\\local\\programs\\python\\python313\\lib\\site-packages (from selenium) (1.26.20)\n"
     ]
    },
    {
     "name": "stderr",
     "output_type": "stream",
     "text": [
      "\n",
      "[notice] A new release of pip is available: 24.3.1 -> 25.1.1\n",
      "[notice] To update, run: python.exe -m pip install --upgrade pip\n"
     ]
    }
   ],
   "source": [
    "!pip install selenium"
   ]
  },
  {
   "cell_type": "code",
   "execution_count": 3,
   "id": "bbd5a5bc",
   "metadata": {},
   "outputs": [],
   "source": [
    "from selenium import webdriver\n",
    "from selenium.webdriver.chrome.options import Options\n",
    "from selenium.webdriver.common.by import By\n",
    "path= r'C:\\Users\\hp\\Downloads\\chromedriver-win64\\chromedriver-win64\\chromedriver.exe'\n",
    "options =Options()\n",
    "options.add_argument(\"--headless\")\n",
    "driver=webdriver.Chrome(path,options=options)\n",
    "\n",
    "driver.get(\"https://www.psx.com.pk/market-summary/\")"
   ]
  },
  {
   "cell_type": "code",
   "execution_count": 23,
   "id": "b8be6a49",
   "metadata": {},
   "outputs": [
    {
     "name": "stdout",
     "output_type": "stream",
     "text": [
      "AUTOMOBILE ASSEMBLER\n"
     ]
    }
   ],
   "source": [
    "data=[]\n",
    "main_table=driver.find_element(By.ID,\"marketmainboard\")\n",
    "table=main_table.find_elements(By.CLASS_NAME,\"table-responsive\")\n",
    "# print(table[0].text)\n",
    "title=table[0].find_element(By.TAG_NAME,\"h4\")\n",
    "print(title.text)\n",
    "# for content in table:\n",
    "#     print(content.text)\n",
    "\n",
    "    "
   ]
  }
 ],
 "metadata": {
  "kernelspec": {
   "display_name": "Python 3",
   "language": "python",
   "name": "python3"
  },
  "language_info": {
   "codemirror_mode": {
    "name": "ipython",
    "version": 3
   },
   "file_extension": ".py",
   "mimetype": "text/x-python",
   "name": "python",
   "nbconvert_exporter": "python",
   "pygments_lexer": "ipython3",
   "version": "3.13.2"
  }
 },
 "nbformat": 4,
 "nbformat_minor": 5
}
